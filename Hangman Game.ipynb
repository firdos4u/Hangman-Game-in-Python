{
 "cells": [
  {
   "cell_type": "markdown",
   "metadata": {},
   "source": [
    "source- https://www.geeksforgeeks.org/hangman-game-python/"
   ]
  },
  {
   "cell_type": "markdown",
   "metadata": {},
   "source": [
    "# Hangman Game"
   ]
  },
  {
   "cell_type": "code",
   "execution_count": 14,
   "metadata": {},
   "outputs": [
    {
     "name": "stdout",
     "output_type": "stream",
     "text": [
      "Guess the word! Hint: It is a fruit\n",
      "_ _ _ _ _ _ "
     ]
    }
   ],
   "source": [
    "import random\n",
    "\n",
    "\n",
    "#Secret words\n",
    "words = '''apple banana mango strawberry orange grape pineapple \n",
    "apricot lemon coconut watermelon cherry papaya berry peach lychee muskmelon'''\n",
    "\n",
    "wordList = words.split(\" \")\n",
    "\n",
    "#randomly choose a word from wordlist\n",
    "word = random.choice(wordList)\n",
    "\n",
    "if __name__ == '__main__':\n",
    "    print(\"Guess the word! Hint: It is a fruit\")\n",
    "    #print _ for each letter in the word\n",
    "    for letter in word:\n",
    "        print(\"_\",end=' ')\n",
    "        \n",
    "    print()\n",
    "        \n",
    "    #list for storing the letter guessed by the user\n",
    "    letterGuessed = ''\n",
    "    chances = len(word) + 2\n",
    "    \n",
    "    try:\n",
    "        while (chances != 0):\n",
    "            chances -= 1\n",
    "            \n",
    "            try:\n",
    "                guess = str(input(\"Enter a letter to guess\"))\n",
    "            except:\n",
    "                print(\"Enter a letter only\")\n",
    "                continue\n",
    "                \n",
    "            #validation of the guess\n",
    "            if not guess.isalpha():\n",
    "                print(\"Enter a letter only\")\n",
    "                continue\n",
    "            elif len(guess) > 1:\n",
    "                print(\"Enter single character only\")\n",
    "                continue\n",
    "            elif guess in letterGuessed:\n",
    "                print(\"You have already guessed that letter\")\n",
    "                continue\n",
    "            \n",
    "            #if letter guessed correctly\n",
    "            if guess in word:\n",
    "                k = word.count(guess) #K stores no. of times guess letter comes in the word\n",
    "                for i in range(k):\n",
    "                    letterGuessed += guess\n",
    "                    \n",
    "            #Print the word\n",
    "            for char in word:\n",
    "                #if user has not guessed all letter and there is letter in guessedWord\n",
    "                if (len(word) != )\n",
    "                \n",
    "                    \n",
    "                \n",
    "            \n",
    "            \n",
    "        \n",
    "\n"
   ]
  },
  {
   "cell_type": "code",
   "execution_count": 18,
   "metadata": {},
   "outputs": [
    {
     "name": "stdout",
     "output_type": "stream",
     "text": [
      "Guess the word! HINT: word is a name of a fruit\n",
      "_ _ _ _ _ _ _ _ _ \n",
      "\n",
      "Enter a letter to guess: 1\n",
      "Enter only a LETTER\n",
      "\n",
      "Enter a letter to guess: 1\n",
      "Enter only a LETTER\n",
      "\n",
      "Enter a letter to guess: 1\n",
      "Enter only a LETTER\n",
      "\n",
      "Enter a letter to guess: 1\n",
      "Enter only a LETTER\n",
      "\n",
      "Enter a letter to guess: 1\n",
      "Enter only a LETTER\n",
      "\n",
      "Enter a letter to guess: 1\n",
      "Enter only a LETTER\n",
      "\n",
      "Enter a letter to guess: 1\n",
      "Enter only a LETTER\n",
      "\n",
      "Enter a letter to guess: 1\n",
      "Enter only a LETTER\n",
      "\n",
      "Enter a letter to guess: 1\n",
      "Enter only a LETTER\n",
      "\n",
      "Enter a letter to guess: 1\n",
      "Enter only a LETTER\n",
      "\n",
      "Enter a letter to guess: 1\n",
      "Enter only a LETTER\n",
      "\n",
      "You lost! Try again..\n",
      "The word was muskmelon\n"
     ]
    }
   ],
   "source": [
    "# Python Program to illustrate\n",
    "# Hangman Game\n",
    "import random\n",
    "from collections import Counter\n",
    "\n",
    "someWords = '''apple banana mango strawberry\n",
    "orange grape pineapple apricot lemon coconut watermelon\n",
    "hcherry papaya berry peach lychee muskmelon'''\n",
    "\n",
    "someWords = someWords.split(' ')\n",
    "# randomly choose a secret word from our \"someWords\" LIST.\n",
    "word = random.choice(someWords)\t\t\n",
    "\n",
    "if __name__ == '__main__':\n",
    "\tprint('Guess the word! HINT: word is a name of a fruit')\n",
    "\t\n",
    "\tfor i in word:\n",
    "\t\t# For printing the empty spaces for letters of the word\n",
    "\t\tprint('_', end = ' ')\t\t\n",
    "\tprint()\n",
    "\n",
    "\tplaying = True\n",
    "\t# list for storing the letters guessed by the player\n",
    "\tletterGuessed = ''\t\t\t\t\n",
    "\tchances = len(word) + 2\n",
    "\tcorrect = 0\n",
    "\tflag = 0\n",
    "\ttry:\n",
    "\t\twhile (chances != 0) and flag == 0: #flag is updated when the word is correctly guessed\n",
    "\t\t\tprint()\n",
    "\t\t\tchances -= 1\n",
    "\n",
    "\t\t\ttry:\n",
    "\t\t\t\tguess = str(input('Enter a letter to guess: '))\n",
    "\t\t\texcept:\n",
    "\t\t\t\tprint('Enter only a letter!')\n",
    "\t\t\t\tcontinue\n",
    "\n",
    "\t\t\t# Validation of the guess\n",
    "\t\t\tif not guess.isalpha():\n",
    "\t\t\t\tprint('Enter only a LETTER')\n",
    "\t\t\t\tcontinue\n",
    "\t\t\telif len(guess) > 1:\n",
    "\t\t\t\tprint('Enter only a SINGLE letter')\n",
    "\t\t\t\tcontinue\n",
    "\t\t\telif guess in letterGuessed:\n",
    "\t\t\t\tprint('You have already guessed that letter')\n",
    "\t\t\t\tcontinue\n",
    "\n",
    "\n",
    "\t\t\t# If letter is guessed correctly\n",
    "\t\t\tif guess in word:\n",
    "\t\t\t\tk = word.count(guess) #k stores the number of times the guessed letter occurs in the word\n",
    "\t\t\t\tfor _ in range(k):\t\n",
    "\t\t\t\t\tletterGuessed += guess # The guess letter is added as many times as it occurs\n",
    "\n",
    "\t\t\t# Print the word\n",
    "\t\t\tfor char in word:\n",
    "\t\t\t\tif char in letterGuessed and (Counter(letterGuessed) != Counter(word)):\n",
    "\t\t\t\t\tprint(char, end = ' ')\n",
    "\t\t\t\t\tcorrect += 1\n",
    "\t\t\t\t# If user has guessed all the letters\n",
    "\t\t\t\telif (Counter(letterGuessed) == Counter(word)): # Once the correct word is guessed fully,\n",
    "\t\t\t\t\t\t\t\t\t\t\t\t\t\t\t\t# the game ends, even if chances remain\n",
    "\t\t\t\t\tprint(\"The word is: \", end=' ')\n",
    "\t\t\t\t\tprint(word)\n",
    "\t\t\t\t\tflag = 1\n",
    "\t\t\t\t\tprint('Congratulations, You won!')\n",
    "\t\t\t\t\tbreak # To break out of the for loop\n",
    "\t\t\t\t\tbreak # To break out of the while loop\n",
    "\t\t\t\telse:\n",
    "\t\t\t\t\tprint('_', end = ' ')\n",
    "\n",
    "\t\t\t\n",
    "\n",
    "\t\t# If user has used all of his chances\n",
    "\t\tif chances <= 0 and (Counter(letterGuessed) != Counter(word)):\n",
    "\t\t\tprint()\n",
    "\t\t\tprint('You lost! Try again..')\n",
    "\t\t\tprint('The word was {}'.format(word))\n",
    "\n",
    "\texcept KeyboardInterrupt:\n",
    "\t\tprint()\n",
    "\t\tprint('Bye! Try again.')\n",
    "\t\texit()\n"
   ]
  },
  {
   "cell_type": "code",
   "execution_count": 17,
   "metadata": {},
   "outputs": [
    {
     "name": "stdout",
     "output_type": "stream",
     "text": [
      "Enter a letter to guess1\n",
      "Enter a letter to guess1\n",
      "Enter a letter to guess1\n"
     ]
    }
   ],
   "source": [
    "chances = 3\n",
    "    \n",
    "while (chances != 0):\n",
    "    chances -= 1\n",
    "\n",
    "    try:\n",
    "        guess = str(input(\"Enter a letter to guess\"))\n",
    "    except:\n",
    "        print(\"Enter a letter only\")\n",
    "        continue"
   ]
  },
  {
   "cell_type": "code",
   "execution_count": 19,
   "metadata": {},
   "outputs": [
    {
     "name": "stdout",
     "output_type": "stream",
     "text": [
      "Counter({'e': 4, 'g': 2, 'k': 2, 's': 2, 'f': 1, 'o': 1, 'r': 1})\n"
     ]
    }
   ],
   "source": [
    "x = Counter(\"geeksforgeeks\")\n",
    "print(x)"
   ]
  },
  {
   "cell_type": "code",
   "execution_count": null,
   "metadata": {},
   "outputs": [],
   "source": []
  }
 ],
 "metadata": {
  "kernelspec": {
   "display_name": "Python 3",
   "language": "python",
   "name": "python3"
  },
  "language_info": {
   "codemirror_mode": {
    "name": "ipython",
    "version": 3
   },
   "file_extension": ".py",
   "mimetype": "text/x-python",
   "name": "python",
   "nbconvert_exporter": "python",
   "pygments_lexer": "ipython3",
   "version": "3.8.5"
  }
 },
 "nbformat": 4,
 "nbformat_minor": 4
}
